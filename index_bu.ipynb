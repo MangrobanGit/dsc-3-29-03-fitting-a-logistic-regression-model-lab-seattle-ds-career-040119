{
 "cells": [
  {
   "cell_type": "markdown",
   "metadata": {},
   "source": [
    "# Fitting a Logistic Regression Model - Lab\n",
    "\n",
    "## Introduction\n",
    "In the last lecture, you were given a broad overview of logistic regression. This included two seperate packages for creating logistic regression models. We'll first investigate building logistic regression models with \n",
    "\n",
    "## Objectives\n",
    "\n",
    "You will be able to:\n",
    "* Understand and implement logistic regression\n"
   ]
  },
  {
   "cell_type": "markdown",
   "metadata": {},
   "source": [
    "## Review\n",
    "\n",
    "The stats model example we covered had four essential parts:\n",
    "    * Importing the data\n",
    "    * Defining X and y\n",
    "    * Fitting the model\n",
    "    * Analyzing model results\n",
    "\n",
    "The corresponding code to these four steps was:\n",
    "\n",
    "```\n",
    "import pandas as pd\n",
    "from patsy import dmatrices\n",
    "import statsmodels.api as sm\n",
    "\n",
    "#Step 1: Importing the data\n",
    "salaries = pd.read_csv(\"salaries_final.csv\", index_col = 0)\n",
    "\n",
    "#Step 2: Defining X and y\n",
    "y, X = dmatrices('Target ~ Age  + C(Race) + C(Sex)',\n",
    "                  salaries, return_type = \"dataframe\")\n",
    "\n",
    "#Step 3: Fitting the model\n",
    "logit_model = sm.Logit(y.iloc[:,1], X)\n",
    "result = logit_model.fit()\n",
    "\n",
    "#Step 4: Analyzing model results\n",
    "result.summary()\n",
    "```\n",
    "\n",
    "Most of this should be fairly familiar to you; importing data with Pandas, initializing a regression object, and calling the fit method of that object. However, step 2 warrants a slightly more in depth explanation.\n",
    "\n",
    "The `dmatrices()` method above mirrors the R languages syntax. The first parameter is a string representing the conceptual formula for our model. Afterwards, we pass the dataframe where the data is stored, as well as an optional parameter for the formate in which we would like the data returned. The general pattern for defining the formula string is: `y_feature_name ~ x_feature1_name + x_feature2_name + ... + x_featuren_name`. You should also notice that two of the x features, Race and Sex, are wrapped in `C()`. This indicates that these variables are *categorical* and that dummy variables need to be created in order to convert them to numerical quantities. Finally, note that y itself returns a Pandas DataFrame with two columns as y itself was originally a categorical variable. With that, it's time to try and define a logistic regression model on your own! "
   ]
  },
  {
   "cell_type": "markdown",
   "metadata": {},
   "source": [
    "## Your Turn - Step 1: Import the Data\n",
    "\n",
    "Import the data stored in the file **titanic**."
   ]
  },
  {
   "cell_type": "code",
<<<<<<< HEAD
   "execution_count": 1,
=======
   "execution_count": 4,
   "metadata": {},
   "outputs": [],
   "source": [
    "import pandas as pd\n",
    "from patsy import dmatrices\n",
    "import statsmodels.api as sm"
   ]
  },
  {
   "cell_type": "code",
   "execution_count": 5,
>>>>>>> complete the lab
   "metadata": {},
   "outputs": [],
   "source": [
    "#Your code here\n",
<<<<<<< HEAD
    "import pandas as pd"
=======
    "titanic = pd.read_csv('titanic.csv')"
>>>>>>> complete the lab
   ]
  },
  {
   "cell_type": "code",
<<<<<<< HEAD
   "execution_count": 2,
   "metadata": {},
   "outputs": [],
   "source": [
    "df = pd.read_csv('titanic.csv')"
=======
   "execution_count": 6,
   "metadata": {},
   "outputs": [
    {
     "data": {
      "text/html": [
       "<div>\n",
       "<style scoped>\n",
       "    .dataframe tbody tr th:only-of-type {\n",
       "        vertical-align: middle;\n",
       "    }\n",
       "\n",
       "    .dataframe tbody tr th {\n",
       "        vertical-align: top;\n",
       "    }\n",
       "\n",
       "    .dataframe thead th {\n",
       "        text-align: right;\n",
       "    }\n",
       "</style>\n",
       "<table border=\"1\" class=\"dataframe\">\n",
       "  <thead>\n",
       "    <tr style=\"text-align: right;\">\n",
       "      <th></th>\n",
       "      <th>PassengerId</th>\n",
       "      <th>Survived</th>\n",
       "      <th>Pclass</th>\n",
       "      <th>Name</th>\n",
       "      <th>Sex</th>\n",
       "      <th>Age</th>\n",
       "      <th>SibSp</th>\n",
       "      <th>Parch</th>\n",
       "      <th>Ticket</th>\n",
       "      <th>Fare</th>\n",
       "      <th>Cabin</th>\n",
       "      <th>Embarked</th>\n",
       "    </tr>\n",
       "  </thead>\n",
       "  <tbody>\n",
       "    <tr>\n",
       "      <th>0</th>\n",
       "      <td>1</td>\n",
       "      <td>0</td>\n",
       "      <td>3</td>\n",
       "      <td>Braund, Mr. Owen Harris</td>\n",
       "      <td>male</td>\n",
       "      <td>22.0</td>\n",
       "      <td>1</td>\n",
       "      <td>0</td>\n",
       "      <td>A/5 21171</td>\n",
       "      <td>7.2500</td>\n",
       "      <td>NaN</td>\n",
       "      <td>S</td>\n",
       "    </tr>\n",
       "    <tr>\n",
       "      <th>1</th>\n",
       "      <td>2</td>\n",
       "      <td>1</td>\n",
       "      <td>1</td>\n",
       "      <td>Cumings, Mrs. John Bradley (Florence Briggs Th...</td>\n",
       "      <td>female</td>\n",
       "      <td>38.0</td>\n",
       "      <td>1</td>\n",
       "      <td>0</td>\n",
       "      <td>PC 17599</td>\n",
       "      <td>71.2833</td>\n",
       "      <td>C85</td>\n",
       "      <td>C</td>\n",
       "    </tr>\n",
       "    <tr>\n",
       "      <th>2</th>\n",
       "      <td>3</td>\n",
       "      <td>1</td>\n",
       "      <td>3</td>\n",
       "      <td>Heikkinen, Miss. Laina</td>\n",
       "      <td>female</td>\n",
       "      <td>26.0</td>\n",
       "      <td>0</td>\n",
       "      <td>0</td>\n",
       "      <td>STON/O2. 3101282</td>\n",
       "      <td>7.9250</td>\n",
       "      <td>NaN</td>\n",
       "      <td>S</td>\n",
       "    </tr>\n",
       "    <tr>\n",
       "      <th>3</th>\n",
       "      <td>4</td>\n",
       "      <td>1</td>\n",
       "      <td>1</td>\n",
       "      <td>Futrelle, Mrs. Jacques Heath (Lily May Peel)</td>\n",
       "      <td>female</td>\n",
       "      <td>35.0</td>\n",
       "      <td>1</td>\n",
       "      <td>0</td>\n",
       "      <td>113803</td>\n",
       "      <td>53.1000</td>\n",
       "      <td>C123</td>\n",
       "      <td>S</td>\n",
       "    </tr>\n",
       "    <tr>\n",
       "      <th>4</th>\n",
       "      <td>5</td>\n",
       "      <td>0</td>\n",
       "      <td>3</td>\n",
       "      <td>Allen, Mr. William Henry</td>\n",
       "      <td>male</td>\n",
       "      <td>35.0</td>\n",
       "      <td>0</td>\n",
       "      <td>0</td>\n",
       "      <td>373450</td>\n",
       "      <td>8.0500</td>\n",
       "      <td>NaN</td>\n",
       "      <td>S</td>\n",
       "    </tr>\n",
       "  </tbody>\n",
       "</table>\n",
       "</div>"
      ],
      "text/plain": [
       "   PassengerId  Survived  Pclass  \\\n",
       "0            1         0       3   \n",
       "1            2         1       1   \n",
       "2            3         1       3   \n",
       "3            4         1       1   \n",
       "4            5         0       3   \n",
       "\n",
       "                                                Name     Sex   Age  SibSp  \\\n",
       "0                            Braund, Mr. Owen Harris    male  22.0      1   \n",
       "1  Cumings, Mrs. John Bradley (Florence Briggs Th...  female  38.0      1   \n",
       "2                             Heikkinen, Miss. Laina  female  26.0      0   \n",
       "3       Futrelle, Mrs. Jacques Heath (Lily May Peel)  female  35.0      1   \n",
       "4                           Allen, Mr. William Henry    male  35.0      0   \n",
       "\n",
       "   Parch            Ticket     Fare Cabin Embarked  \n",
       "0      0         A/5 21171   7.2500   NaN        S  \n",
       "1      0          PC 17599  71.2833   C85        C  \n",
       "2      0  STON/O2. 3101282   7.9250   NaN        S  \n",
       "3      0            113803  53.1000  C123        S  \n",
       "4      0            373450   8.0500   NaN        S  "
      ]
     },
     "execution_count": 6,
     "metadata": {},
     "output_type": "execute_result"
    }
   ],
   "source": [
    "titanic.head()"
   ]
  },
  {
   "cell_type": "code",
   "execution_count": 7,
   "metadata": {},
   "outputs": [
    {
     "data": {
      "text/plain": [
       "Index(['PassengerId', 'Survived', 'Pclass', 'Name', 'Sex', 'Age', 'SibSp',\n",
       "       'Parch', 'Ticket', 'Fare', 'Cabin', 'Embarked'],\n",
       "      dtype='object')"
      ]
     },
     "execution_count": 7,
     "metadata": {},
     "output_type": "execute_result"
    }
   ],
   "source": [
    "titanic.columns"
>>>>>>> complete the lab
   ]
  },
  {
   "cell_type": "markdown",
   "metadata": {},
   "source": [
    "## Step 2: Define X and Y\n",
    "\n",
    "For our first foray into logistic regression, we are going to attempt to build a model that classifies whether an indivdual survived the Titanic shiwrech or not (yes its a bit morbid). Follow the programming patterns described above to define X and y."
   ]
  },
  {
   "cell_type": "code",
<<<<<<< HEAD
   "execution_count": 3,
   "metadata": {},
   "outputs": [
    {
     "data": {
      "text/plain": [
       "Index(['PassengerId', 'Survived', 'Pclass', 'Name', 'Sex', 'Age', 'SibSp',\n",
       "       'Parch', 'Ticket', 'Fare', 'Cabin', 'Embarked'],\n",
       "      dtype='object')"
      ]
     },
     "execution_count": 3,
     "metadata": {},
     "output_type": "execute_result"
    }
   ],
   "source": [
    "df.columns"
   ]
  },
  {
   "cell_type": "code",
   "execution_count": 4,
=======
   "execution_count": 8,
>>>>>>> complete the lab
   "metadata": {},
   "outputs": [],
   "source": [
    "#Your code here\n",
<<<<<<< HEAD
    "y = df.pop('Survived')"
   ]
  },
  {
   "cell_type": "code",
   "execution_count": 8,
   "metadata": {},
   "outputs": [],
   "source": [
    "X = df[['Pclass','Sex','Age','SibSp','Parch','Fare']]"
   ]
  },
  {
   "cell_type": "code",
   "execution_count": 14,
   "metadata": {},
   "outputs": [
    {
     "data": {
      "text/plain": [
       "male      577\n",
       "female    314\n",
       "Name: Sex, dtype: int64"
      ]
     },
     "execution_count": 14,
     "metadata": {},
     "output_type": "execute_result"
    }
   ],
   "source": [
    "X.Sex.value_counts()"
   ]
  },
  {
   "cell_type": "code",
   "execution_count": 15,
   "metadata": {},
   "outputs": [],
   "source": [
    "sex_map={'male':0,'female':1}"
   ]
  },
  {
   "cell_type": "code",
   "execution_count": 18,
   "metadata": {},
   "outputs": [
    {
     "name": "stdout",
     "output_type": "stream",
     "text": [
      "<class 'pandas.core.frame.DataFrame'>\n",
      "RangeIndex: 891 entries, 0 to 890\n",
      "Data columns (total 6 columns):\n",
      "Pclass    891 non-null int64\n",
      "Sex       891 non-null object\n",
      "Age       714 non-null float64\n",
      "SibSp     891 non-null int64\n",
      "Parch     891 non-null int64\n",
      "Fare      891 non-null float64\n",
      "dtypes: float64(2), int64(3), object(1)\n",
      "memory usage: 41.8+ KB\n"
     ]
    }
   ],
   "source": [
    "X.info()"
   ]
  },
  {
   "cell_type": "code",
   "execution_count": 16,
   "metadata": {},
   "outputs": [
    {
     "data": {
      "text/plain": [
       "0        male\n",
       "1      female\n",
       "2      female\n",
       "3      female\n",
       "4        male\n",
       "5        male\n",
       "6        male\n",
       "7        male\n",
       "8      female\n",
       "9      female\n",
       "10     female\n",
       "11     female\n",
       "12       male\n",
       "13       male\n",
       "14     female\n",
       "15     female\n",
       "16       male\n",
       "17       male\n",
       "18     female\n",
       "19     female\n",
       "20       male\n",
       "21       male\n",
       "22     female\n",
       "23       male\n",
       "24     female\n",
       "25     female\n",
       "26       male\n",
       "27       male\n",
       "28     female\n",
       "29       male\n",
       "        ...  \n",
       "861      male\n",
       "862    female\n",
       "863    female\n",
       "864      male\n",
       "865    female\n",
       "866    female\n",
       "867      male\n",
       "868      male\n",
       "869      male\n",
       "870      male\n",
       "871    female\n",
       "872      male\n",
       "873      male\n",
       "874    female\n",
       "875    female\n",
       "876      male\n",
       "877      male\n",
       "878      male\n",
       "879    female\n",
       "880    female\n",
       "881      male\n",
       "882    female\n",
       "883      male\n",
       "884      male\n",
       "885    female\n",
       "886      male\n",
       "887    female\n",
       "888    female\n",
       "889      male\n",
       "890      male\n",
       "Name: Sex, Length: 891, dtype: object"
      ]
     },
     "execution_count": 16,
     "metadata": {},
     "output_type": "execute_result"
    }
   ],
   "source": [
    "X['Sex'].map(sex_map) "
   ]
  },
  {
   "cell_type": "code",
   "execution_count": 10,
   "metadata": {},
   "outputs": [],
   "source": [
    "df = pd.concat([X,y], axis=1)"
   ]
  },
  {
   "cell_type": "code",
   "execution_count": 13,
   "metadata": {},
   "outputs": [
    {
     "data": {
      "image/png": "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\n",
      "text/plain": [
       "<Figure size 432x288 with 36 Axes>"
      ]
     },
     "metadata": {
      "needs_background": "light"
     },
     "output_type": "display_data"
    }
   ],
   "source": [
    "_ = pd.plotting.scatter_matrix(df)\n"
=======
    "y, X = dmatrices('Survived ~ Pclass + C(Sex) + Age + SibSp + Fare + C(Embarked)'\n",
    "                 ,titanic\n",
    "                 ,return_type=\"dataframe\")"
>>>>>>> complete the lab
   ]
  },
  {
   "cell_type": "markdown",
   "metadata": {},
   "source": [
    "## Step 3: Fit the model\n",
    "\n",
    "Now with everything in place, initialize a regression object and fit your model!\n",
    "\n",
    "### Warning: If you receive an error of the form \"LinAlgError: Singular matrix\"\n",
    "Stats models was unable to fit the model due to some Linear Algebra problems. Specifically, the matrix was not invertable due to not being full rank. In layman's terms, there was a lot of redundant superfulous data. Try removing some features from the model and running it again."
   ]
  },
  {
   "cell_type": "code",
   "execution_count": 9,
   "metadata": {},
   "outputs": [
    {
     "name": "stdout",
     "output_type": "stream",
     "text": [
      "Optimization terminated successfully.\n",
      "         Current function value: 0.444229\n",
      "         Iterations 6\n"
     ]
    }
   ],
   "source": [
    "# Your code here\n",
    "lr = sm.Logit(endog=y, exog=X)\n",
    "result = lr.fit()"
   ]
  },
  {
   "cell_type": "markdown",
   "metadata": {},
   "source": [
    "## Step 4: Analyzing results\n",
    "\n",
    "Generate the summary table for your model. Then, comment on the p-values associated with the various features you chose."
   ]
  },
  {
   "cell_type": "code",
   "execution_count": 10,
   "metadata": {},
   "outputs": [
    {
     "data": {
      "text/html": [
       "<table class=\"simpletable\">\n",
       "<caption>Logit Regression Results</caption>\n",
       "<tr>\n",
       "  <th>Dep. Variable:</th>     <td>Survived</td>     <th>  No. Observations:  </th>  <td>   712</td>  \n",
       "</tr>\n",
       "<tr>\n",
       "  <th>Model:</th>               <td>Logit</td>      <th>  Df Residuals:      </th>  <td>   704</td>  \n",
       "</tr>\n",
       "<tr>\n",
       "  <th>Method:</th>               <td>MLE</td>       <th>  Df Model:          </th>  <td>     7</td>  \n",
       "</tr>\n",
       "<tr>\n",
       "  <th>Date:</th>          <td>Fri, 17 May 2019</td> <th>  Pseudo R-squ.:     </th>  <td>0.3417</td>  \n",
       "</tr>\n",
       "<tr>\n",
       "  <th>Time:</th>              <td>23:15:24</td>     <th>  Log-Likelihood:    </th> <td> -316.29</td> \n",
       "</tr>\n",
       "<tr>\n",
       "  <th>converged:</th>           <td>True</td>       <th>  LL-Null:           </th> <td> -480.45</td> \n",
       "</tr>\n",
       "<tr>\n",
       "  <th> </th>                      <td> </td>        <th>  LLR p-value:       </th> <td>5.360e-67</td>\n",
       "</tr>\n",
       "</table>\n",
       "<table class=\"simpletable\">\n",
       "<tr>\n",
       "          <td></td>            <th>coef</th>     <th>std err</th>      <th>z</th>      <th>P>|z|</th>  <th>[0.025</th>    <th>0.975]</th>  \n",
       "</tr>\n",
       "<tr>\n",
       "  <th>Intercept</th>        <td>    5.6378</td> <td>    0.633</td> <td>    8.901</td> <td> 0.000</td> <td>    4.396</td> <td>    6.879</td>\n",
       "</tr>\n",
       "<tr>\n",
       "  <th>C(Sex)[T.male]</th>   <td>   -2.6168</td> <td>    0.217</td> <td>  -12.040</td> <td> 0.000</td> <td>   -3.043</td> <td>   -2.191</td>\n",
       "</tr>\n",
       "<tr>\n",
       "  <th>C(Embarked)[T.Q]</th> <td>   -0.8155</td> <td>    0.598</td> <td>   -1.363</td> <td> 0.173</td> <td>   -1.988</td> <td>    0.357</td>\n",
       "</tr>\n",
       "<tr>\n",
       "  <th>C(Embarked)[T.S]</th> <td>   -0.4036</td> <td>    0.270</td> <td>   -1.494</td> <td> 0.135</td> <td>   -0.933</td> <td>    0.126</td>\n",
       "</tr>\n",
       "<tr>\n",
       "  <th>Pclass</th>           <td>   -1.2102</td> <td>    0.163</td> <td>   -7.427</td> <td> 0.000</td> <td>   -1.530</td> <td>   -0.891</td>\n",
       "</tr>\n",
       "<tr>\n",
       "  <th>Age</th>              <td>   -0.0433</td> <td>    0.008</td> <td>   -5.263</td> <td> 0.000</td> <td>   -0.059</td> <td>   -0.027</td>\n",
       "</tr>\n",
       "<tr>\n",
       "  <th>SibSp</th>            <td>   -0.3796</td> <td>    0.125</td> <td>   -3.043</td> <td> 0.002</td> <td>   -0.624</td> <td>   -0.135</td>\n",
       "</tr>\n",
       "<tr>\n",
       "  <th>Fare</th>             <td>    0.0012</td> <td>    0.002</td> <td>    0.474</td> <td> 0.635</td> <td>   -0.004</td> <td>    0.006</td>\n",
       "</tr>\n",
       "</table>"
      ],
      "text/plain": [
       "<class 'statsmodels.iolib.summary.Summary'>\n",
       "\"\"\"\n",
       "                           Logit Regression Results                           \n",
       "==============================================================================\n",
       "Dep. Variable:               Survived   No. Observations:                  712\n",
       "Model:                          Logit   Df Residuals:                      704\n",
       "Method:                           MLE   Df Model:                            7\n",
       "Date:                Fri, 17 May 2019   Pseudo R-squ.:                  0.3417\n",
       "Time:                        23:15:24   Log-Likelihood:                -316.29\n",
       "converged:                       True   LL-Null:                       -480.45\n",
       "                                        LLR p-value:                 5.360e-67\n",
       "====================================================================================\n",
       "                       coef    std err          z      P>|z|      [0.025      0.975]\n",
       "------------------------------------------------------------------------------------\n",
       "Intercept            5.6378      0.633      8.901      0.000       4.396       6.879\n",
       "C(Sex)[T.male]      -2.6168      0.217    -12.040      0.000      -3.043      -2.191\n",
       "C(Embarked)[T.Q]    -0.8155      0.598     -1.363      0.173      -1.988       0.357\n",
       "C(Embarked)[T.S]    -0.4036      0.270     -1.494      0.135      -0.933       0.126\n",
       "Pclass              -1.2102      0.163     -7.427      0.000      -1.530      -0.891\n",
       "Age                 -0.0433      0.008     -5.263      0.000      -0.059      -0.027\n",
       "SibSp               -0.3796      0.125     -3.043      0.002      -0.624      -0.135\n",
       "Fare                 0.0012      0.002      0.474      0.635      -0.004       0.006\n",
       "====================================================================================\n",
       "\"\"\""
      ]
     },
     "execution_count": 10,
     "metadata": {},
     "output_type": "execute_result"
    }
   ],
   "source": [
    "result.summary()"
   ]
  },
  {
   "cell_type": "markdown",
   "metadata": {},
   "source": [
    "## Your analysis here"
   ]
  },
  {
   "cell_type": "markdown",
   "metadata": {},
   "source": [
    "## Level - up\n",
    "\n",
    "Create a new model, this time only using those features you determined were influential based on your analysis in step 4."
   ]
  },
  {
   "cell_type": "code",
   "execution_count": null,
   "metadata": {},
   "outputs": [],
   "source": [
    "#your code here"
   ]
  },
  {
   "cell_type": "code",
   "execution_count": 13,
   "metadata": {},
   "outputs": [],
   "source": [
    "#Your code here\n",
    "y, X = dmatrices('Survived ~ Pclass + C(Sex) + Age + SibSp'\n",
    "                 ,titanic\n",
    "                 ,return_type=\"dataframe\")"
   ]
  },
  {
   "cell_type": "code",
   "execution_count": 14,
   "metadata": {},
   "outputs": [
    {
     "name": "stdout",
     "output_type": "stream",
     "text": [
      "Optimization terminated successfully.\n",
      "         Current function value: 0.445882\n",
      "         Iterations 6\n"
     ]
    }
   ],
   "source": [
    "# Your code here\n",
    "lr = sm.Logit(endog=y, exog=X)\n",
    "result = lr.fit()"
   ]
  },
  {
   "cell_type": "code",
   "execution_count": 15,
   "metadata": {},
   "outputs": [
    {
     "data": {
      "text/html": [
       "<table class=\"simpletable\">\n",
       "<caption>Logit Regression Results</caption>\n",
       "<tr>\n",
       "  <th>Dep. Variable:</th>     <td>Survived</td>     <th>  No. Observations:  </th>  <td>   714</td>  \n",
       "</tr>\n",
       "<tr>\n",
       "  <th>Model:</th>               <td>Logit</td>      <th>  Df Residuals:      </th>  <td>   709</td>  \n",
       "</tr>\n",
       "<tr>\n",
       "  <th>Method:</th>               <td>MLE</td>       <th>  Df Model:          </th>  <td>     4</td>  \n",
       "</tr>\n",
       "<tr>\n",
       "  <th>Date:</th>          <td>Fri, 17 May 2019</td> <th>  Pseudo R-squ.:     </th>  <td>0.3399</td>  \n",
       "</tr>\n",
       "<tr>\n",
       "  <th>Time:</th>              <td>23:16:40</td>     <th>  Log-Likelihood:    </th> <td> -318.36</td> \n",
       "</tr>\n",
       "<tr>\n",
       "  <th>converged:</th>           <td>True</td>       <th>  LL-Null:           </th> <td> -482.26</td> \n",
       "</tr>\n",
       "<tr>\n",
       "  <th> </th>                      <td> </td>        <th>  LLR p-value:       </th> <td>1.089e-69</td>\n",
       "</tr>\n",
       "</table>\n",
       "<table class=\"simpletable\">\n",
       "<tr>\n",
       "         <td></td>           <th>coef</th>     <th>std err</th>      <th>z</th>      <th>P>|z|</th>  <th>[0.025</th>    <th>0.975]</th>  \n",
       "</tr>\n",
       "<tr>\n",
       "  <th>Intercept</th>      <td>    5.6008</td> <td>    0.543</td> <td>   10.306</td> <td> 0.000</td> <td>    4.536</td> <td>    6.666</td>\n",
       "</tr>\n",
       "<tr>\n",
       "  <th>C(Sex)[T.male]</th> <td>   -2.6235</td> <td>    0.215</td> <td>  -12.229</td> <td> 0.000</td> <td>   -3.044</td> <td>   -2.203</td>\n",
       "</tr>\n",
       "<tr>\n",
       "  <th>Pclass</th>         <td>   -1.3174</td> <td>    0.141</td> <td>   -9.350</td> <td> 0.000</td> <td>   -1.594</td> <td>   -1.041</td>\n",
       "</tr>\n",
       "<tr>\n",
       "  <th>Age</th>            <td>   -0.0444</td> <td>    0.008</td> <td>   -5.442</td> <td> 0.000</td> <td>   -0.060</td> <td>   -0.028</td>\n",
       "</tr>\n",
       "<tr>\n",
       "  <th>SibSp</th>          <td>   -0.3761</td> <td>    0.121</td> <td>   -3.106</td> <td> 0.002</td> <td>   -0.613</td> <td>   -0.139</td>\n",
       "</tr>\n",
       "</table>"
      ],
      "text/plain": [
       "<class 'statsmodels.iolib.summary.Summary'>\n",
       "\"\"\"\n",
       "                           Logit Regression Results                           \n",
       "==============================================================================\n",
       "Dep. Variable:               Survived   No. Observations:                  714\n",
       "Model:                          Logit   Df Residuals:                      709\n",
       "Method:                           MLE   Df Model:                            4\n",
       "Date:                Fri, 17 May 2019   Pseudo R-squ.:                  0.3399\n",
       "Time:                        23:16:40   Log-Likelihood:                -318.36\n",
       "converged:                       True   LL-Null:                       -482.26\n",
       "                                        LLR p-value:                 1.089e-69\n",
       "==================================================================================\n",
       "                     coef    std err          z      P>|z|      [0.025      0.975]\n",
       "----------------------------------------------------------------------------------\n",
       "Intercept          5.6008      0.543     10.306      0.000       4.536       6.666\n",
       "C(Sex)[T.male]    -2.6235      0.215    -12.229      0.000      -3.044      -2.203\n",
       "Pclass            -1.3174      0.141     -9.350      0.000      -1.594      -1.041\n",
       "Age               -0.0444      0.008     -5.442      0.000      -0.060      -0.028\n",
       "SibSp             -0.3761      0.121     -3.106      0.002      -0.613      -0.139\n",
       "==================================================================================\n",
       "\"\"\""
      ]
     },
     "execution_count": 15,
     "metadata": {},
     "output_type": "execute_result"
    }
   ],
   "source": [
    "result.summary()"
   ]
  },
  {
   "cell_type": "markdown",
   "metadata": {},
   "source": [
    "## Summary \n",
    "\n",
    "Well done. In this lab we practiced using stats models to build a logistic regression model. We then reviewed interpreting the results, building upon our previous stats knowledge, similar to linear regression. Continue on to take a look at building logistic regression models in Sci-kit learn!"
   ]
  }
 ],
 "metadata": {
  "kernelspec": {
   "display_name": "Python 3",
   "language": "python",
   "name": "python3"
  },
  "language_info": {
   "codemirror_mode": {
    "name": "ipython",
    "version": 3
   },
   "file_extension": ".py",
   "mimetype": "text/x-python",
   "name": "python",
   "nbconvert_exporter": "python",
   "pygments_lexer": "ipython3",
   "version": "3.6.6"
  }
 },
 "nbformat": 4,
 "nbformat_minor": 2
}
